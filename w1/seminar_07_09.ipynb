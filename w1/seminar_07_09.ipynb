{
 "cells": [
  {
   "cell_type": "markdown",
   "metadata": {},
   "source": [
    "### Власенков Кирилл (Б03-907, семинар 07.09.2020)"
   ]
  },
  {
   "cell_type": "markdown",
   "metadata": {},
   "source": [
    "# problem 1"
   ]
  },
  {
   "cell_type": "code",
   "execution_count": 1,
   "metadata": {},
   "outputs": [],
   "source": [
    "import numpy as np"
   ]
  },
  {
   "cell_type": "code",
   "execution_count": 2,
   "metadata": {},
   "outputs": [],
   "source": [
    "def maxim(seq:list):\n",
    "    maxim = seq[0]\n",
    "    for i in range(len(seq)):\n",
    "        if seq[i] > maxim:\n",
    "            maxim = seq[i]\n",
    "    return maxim       "
   ]
  },
  {
   "cell_type": "code",
   "execution_count": 3,
   "metadata": {},
   "outputs": [],
   "source": [
    "def minim(seq:list):\n",
    "    minim = seq[0]\n",
    "    for i in range(len(seq)):\n",
    "        if seq[i] < minim:\n",
    "            minim = seq[i]\n",
    "    return minim"
   ]
  },
  {
   "cell_type": "code",
   "execution_count": 4,
   "metadata": {},
   "outputs": [],
   "source": [
    "def mean(seq:list):\n",
    "    seq = np.array(seq).astype(np.float)\n",
    "    return seq.sum() / seq.size"
   ]
  },
  {
   "cell_type": "code",
   "execution_count": 5,
   "metadata": {},
   "outputs": [],
   "source": [
    "def mse(seq:list):\n",
    "    seq = np.array(seq).astype(np.float)\n",
    "    return np.sqrt(((seq - mean(seq))**2/seq.size).sum())"
   ]
  },
  {
   "cell_type": "code",
   "execution_count": 16,
   "metadata": {},
   "outputs": [
    {
     "name": "stdout",
     "output_type": "stream",
     "text": [
      "1\n",
      "1\n",
      "1\n",
      "end\n",
      "\n",
      "\n",
      "\n",
      "sequence for scoring =  ['1', '1', '1']\n",
      "maximum =  1\n",
      "minimum =  1\n",
      "mean value =  1.0\n",
      "mean squared error =  0.0\n"
     ]
    }
   ],
   "source": [
    "digit = input()\n",
    "seq = []\n",
    "while digit != \"end\":\n",
    "    seq.append(digit)\n",
    "    digit = input()\n",
    "\n",
    "print(\"\\n\\n\\nsequence for scoring = \", str(seq))    \n",
    "print(\"maximum = \", maxim(seq))\n",
    "print(\"minimum = \", minim(seq))\n",
    "print(\"mean value = \", mean(seq))\n",
    "print(\"mean squared error = \", mse(seq))"
   ]
  },
  {
   "cell_type": "code",
   "execution_count": 8,
   "metadata": {},
   "outputs": [
    {
     "name": "stdout",
     "output_type": "stream",
     "text": [
      "enter the maximum size of array:1999\n",
      "[1000, 1005, 1010, 1015, 1020, 1025, 1030, 1035, 1040, 1045, 1050, 1055, 1060, 1065, 1070, 1075, 1080, 1085, 1090, 1095, 1100, 1105, 1110, 1115, 1120, 1125, 1130, 1135, 1140, 1145, 1150, 1155, 1160, 1165, 1170, 1175, 1180, 1185, 1190, 1195, 1200, 1205, 1210, 1215, 1220, 1225, 1230, 1235, 1240, 1245, 1250, 1255, 1260, 1265, 1270, 1275, 1280, 1285, 1290, 1295, 1300, 1305, 1310, 1315, 1320, 1325, 1330, 1335, 1340, 1345, 1350, 1355, 1360, 1365, 1370, 1375, 1380, 1385, 1390, 1395, 1400, 1405, 1410, 1415, 1420, 1425, 1430, 1435, 1440, 1445, 1450, 1455, 1460, 1465, 1470, 1475, 1480, 1485, 1490, 1495, 1500, 1505, 1510, 1515, 1520, 1525, 1530, 1535, 1540, 1545, 1550, 1555, 1560, 1565, 1570, 1575, 1580, 1585, 1590, 1595, 1600, 1605, 1610, 1615, 1620, 1625, 1630, 1635, 1640, 1645, 1650, 1655, 1660, 1665, 1670, 1675, 1680, 1685, 1690, 1695, 1700, 1705, 1710, 1715, 1720, 1725, 1730, 1735, 1740, 1745, 1750, 1755, 1760, 1765, 1770, 1775, 1780, 1785, 1790, 1795, 1800, 1805, 1810, 1815, 1820, 1825, 1830, 1835, 1840, 1845, 1850, 1855, 1860, 1865, 1870, 1875, 1880, 1885, 1890, 1895, 1900, 1905, 1910, 1915, 1920, 1925, 1930, 1935, 1940, 1945, 1950, 1955, 1960, 1965, 1970, 1975, 1980, 1985, 1990, 1995, 0, 5, 10, 15, 20, 25, 30, 35, 40, 45, 50, 55, 60, 65, 70, 75, 80, 85, 90, 95, 100, 105, 110, 115, 120, 125, 130, 135, 140, 145, 150, 155, 160, 165, 170, 175, 180, 185, 190, 195, 200, 205, 210, 215, 220, 225, 230, 235, 240, 245, 250, 255, 260, 265, 270, 275, 280, 285, 290, 295, 300, 305, 310, 315, 320, 325, 330, 335, 340, 345, 350, 355, 360, 365, 370, 375, 380, 385, 390, 395, 400, 405, 410, 415, 420, 425, 430, 435, 440, 445, 450, 455, 460, 465, 470, 475, 480, 485, 490, 495, 500, 505, 510, 515, 520, 525, 530, 535, 540, 545, 550, 555, 560, 565, 570, 575, 580, 585, 590, 595, 600, 605, 610, 615, 620, 625, 630, 635, 640, 645, 650, 655, 660, 665, 670, 675, 680, 685, 690, 695, 700, 705, 710, 715, 720, 725, 730, 735, 740, 745, 750, 755, 760, 765, 770, 775, 780, 785, 790, 795, 800, 805, 810, 815, 820, 825, 830, 835, 840, 845, 850, 855, 860, 865, 870, 875, 880, 885, 890, 895, 900, 905, 910, 915, 920, 925, 930, 935, 940, 945, 950, 955, 960, 965, 970, 975, 980, 985, 990, 995]\n"
     ]
    }
   ],
   "source": [
    "MAX_SIZE = int(input(\"enter the maximum size of array:\"))\n",
    "numbers = [i for i in range(MAX_SIZE // 2, MAX_SIZE + 1) if i%5 == 0] + [i for i in range(MAX_SIZE // 2 - 1) if i%5==0]\n",
    "print(numbers)"
   ]
  },
  {
   "cell_type": "markdown",
   "metadata": {},
   "source": [
    "# problem 2"
   ]
  },
  {
   "cell_type": "code",
   "execution_count": 9,
   "metadata": {},
   "outputs": [],
   "source": [
    "def bubble_sort(lst):\n",
    "    flag = True\n",
    "    while flag:\n",
    "        flag = False\n",
    "        for i in range(len(lst) - 1):\n",
    "            if lst[i] >lst[i+1]:\n",
    "                lst[i], lst[i+1] = lst[i+1], lst[i]\n",
    "                \n",
    "                flag = True\n",
    "    return lst      "
   ]
  },
  {
   "cell_type": "code",
   "execution_count": 10,
   "metadata": {},
   "outputs": [],
   "source": [
    "import random\n",
    "\n",
    "def quick_sort(lst):\n",
    "    \n",
    "    if len(lst) <= 1:\n",
    "        return lst\n",
    "    \n",
    "    else:\n",
    "        \n",
    "        left_part = []\n",
    "        right_part = []\n",
    "        pivot_part = []\n",
    "        pivot = random.choice(lst)\n",
    "        \n",
    "        for i in range(len(lst)):\n",
    "            \n",
    "            if lst[i] < pivot:\n",
    "                left_part.append(lst[i])\n",
    "            \n",
    "            elif lst[i] > pivot:\n",
    "                right_part.append(lst[i])\n",
    "                \n",
    "            else:\n",
    "                pivot_part.append(lst[i])\n",
    "    return quick_sort(left_part) + pivot_part + quick_sort(right_part)"
   ]
  },
  {
   "cell_type": "code",
   "execution_count": 11,
   "metadata": {},
   "outputs": [
    {
     "data": {
      "text/plain": [
       "[2, 3, 4, 5, 100]"
      ]
     },
     "execution_count": 11,
     "metadata": {},
     "output_type": "execute_result"
    }
   ],
   "source": [
    "quick_sort([100, 2, 3, 5, 4])"
   ]
  },
  {
   "cell_type": "code",
   "execution_count": 12,
   "metadata": {},
   "outputs": [
    {
     "data": {
      "text/plain": [
       "[-23923, -50, -1, 0, 0, 1, 37, 55, 100, 1919191]"
      ]
     },
     "execution_count": 12,
     "metadata": {},
     "output_type": "execute_result"
    }
   ],
   "source": [
    "bubble_sort([1, 100, 55, 1919191, 37, -1, -23923, -50, 0, 0])"
   ]
  },
  {
   "cell_type": "markdown",
   "metadata": {},
   "source": [
    "# problem 3"
   ]
  },
  {
   "cell_type": "code",
   "execution_count": 14,
   "metadata": {},
   "outputs": [
    {
     "name": "stdout",
     "output_type": "stream",
     "text": [
      "enter the size of dictionary5\n",
      "enter the data in format: key value --> a 2\n",
      "enter the data in format: key value --> v 4\n",
      "enter the data in format: key value --> b 5\n",
      "enter the data in format: key value --> g 6\n",
      "enter the data in format: key value --> h 7\n",
      "{'2': 'a', '4': 'v', '5': 'b', '6': 'g', '7': 'h'}\n",
      "{'2': 'a', '4': 'v', '5': 'b', '6': 'g', '7': 'h'}\n"
     ]
    }
   ],
   "source": [
    "n = int(input(\"enter the size of dictionary\"))\n",
    "dct  = dict([input('enter the data in format: key value --> ').split() for _ in range(n)])\n",
    "\n",
    "\n",
    "print({value:key for key, value in dct.items()})\n",
    "print({value:key for key, value in zip(dct.keys(), dct.values())})"
   ]
  },
  {
   "cell_type": "markdown",
   "metadata": {},
   "source": [
    "# problem 4"
   ]
  },
  {
   "cell_type": "code",
   "execution_count": 15,
   "metadata": {},
   "outputs": [],
   "source": [
    "from math import sqrt"
   ]
  },
  {
   "cell_type": "code",
   "execution_count": 16,
   "metadata": {},
   "outputs": [
    {
     "data": {
      "text/plain": [
       "[1, 81, 121, 361, 441, 841, 961, 1521, 1681, 2401]"
      ]
     },
     "execution_count": 16,
     "metadata": {},
     "output_type": "execute_result"
    }
   ],
   "source": [
    "[num for num in range(2500) if num % 10 == 1 and sqrt(num).is_integer()]"
   ]
  },
  {
   "cell_type": "markdown",
   "metadata": {},
   "source": [
    "# EXTRA 1"
   ]
  },
  {
   "cell_type": "markdown",
   "metadata": {},
   "source": [
    "функция *transformer* - попытка решить задачу в стиле С, ну и она решена, но только для типа int.\n",
    "\n",
    "Функция *transform* реализована в общем виде."
   ]
  },
  {
   "cell_type": "code",
   "execution_count": 17,
   "metadata": {},
   "outputs": [],
   "source": [
    "def transformer(lst:list):\n",
    "    arr = list()\n",
    "    i = 0\n",
    "    j = -1\n",
    "    if list(enumerate(lst))[-1][0] % 2  == 0:\n",
    "        while id(lst[i]) != id(lst[j]):\n",
    "            arr.append(lst[i] + lst[j])\n",
    "            i += 1\n",
    "            j -= 1\n",
    "    else:\n",
    "        while id(a[i]) - id(a[j]) != 32:\n",
    "            arr.append(lst[i] + lst[j])\n",
    "            i += 1\n",
    "            j -= 1\n",
    "\n",
    "    return arr"
   ]
  },
  {
   "cell_type": "code",
   "execution_count": 23,
   "metadata": {},
   "outputs": [],
   "source": [
    "def transform(lst):\n",
    "    ans = []\n",
    "    length = list(enumerate(lst))[-1][0] + 1\n",
    "    for i, j in zip(np.arange(length // 2), np.arange(-1, - length //2 -1, -1)):\n",
    "        ans.append(lst[i] + lst[j])\n",
    "    return ans"
   ]
  },
  {
   "cell_type": "code",
   "execution_count": 25,
   "metadata": {},
   "outputs": [
    {
     "data": {
      "text/plain": [
       "[9, 9, 9, 9, 9]"
      ]
     },
     "execution_count": 25,
     "metadata": {},
     "output_type": "execute_result"
    }
   ],
   "source": [
    "transform([i for i in range(10)])"
   ]
  },
  {
   "cell_type": "markdown",
   "metadata": {},
   "source": [
    "# EXTRA 2"
   ]
  },
  {
   "cell_type": "code",
   "execution_count": 26,
   "metadata": {},
   "outputs": [
    {
     "name": "stdout",
     "output_type": "stream",
     "text": [
      "1 2 3 4 5 6\n",
      "4 5 6 7 8 9 \n",
      "intersection:  {'4', '5', '6'}\n",
      "symmetric difference:  {'7', '3', '9', '1', '8', '2'}\n",
      "union:  {'2', '3', '7', '9', '1', '5', '6', '8', '4'}\n"
     ]
    }
   ],
   "source": [
    "set_1 = set(input())\n",
    "set_2 = set(input())\n",
    "\n",
    "\n",
    "set_1.remove(\" \")\n",
    "set_2.remove(\" \")\n",
    "\n",
    "def set_operations(set_1, set_2):\n",
    "    \n",
    "    print(\"intersection: \",  set_1.intersection(set_2))\n",
    "    print(\"symmetric difference: \", set_1.symmetric_difference(set_2))\n",
    "    print(\"union: \", set_1.union(set_2))\n",
    "    \n",
    "set_operations(set_1, set_2)"
   ]
  },
  {
   "cell_type": "markdown",
   "metadata": {},
   "source": [
    "# EXTRA 3"
   ]
  },
  {
   "cell_type": "code",
   "execution_count": 27,
   "metadata": {},
   "outputs": [],
   "source": [
    "def example_func(a, b=None, c=None, *args, **kwargs):\n",
    "    print(a)\n",
    "    print(b)\n",
    "    print(c)\n",
    "    print(args)\n",
    "    print(kwargs)"
   ]
  },
  {
   "cell_type": "code",
   "execution_count": 28,
   "metadata": {},
   "outputs": [
    {
     "name": "stdout",
     "output_type": "stream",
     "text": [
      "1\n",
      "None\n",
      "None\n",
      "()\n",
      "{}\n"
     ]
    }
   ],
   "source": [
    "example_func(1)"
   ]
  },
  {
   "cell_type": "code",
   "execution_count": 29,
   "metadata": {},
   "outputs": [
    {
     "name": "stdout",
     "output_type": "stream",
     "text": [
      "1\n",
      "2\n",
      "3\n",
      "(4,)\n",
      "{'k': 'k'}\n"
     ]
    }
   ],
   "source": [
    "example_func(1, 2, 3, 4, k = \"k\")"
   ]
  },
  {
   "cell_type": "code",
   "execution_count": 32,
   "metadata": {},
   "outputs": [
    {
     "name": "stdout",
     "output_type": "stream",
     "text": [
      "1\n",
      "9\n",
      "None\n",
      "()\n",
      "{'d': 10, 'g': 8}\n"
     ]
    }
   ],
   "source": [
    "example_func(1, d=10, g=8, b=9)"
   ]
  }
 ],
 "metadata": {
  "kernelspec": {
   "display_name": "Python 3",
   "language": "python",
   "name": "python3"
  },
  "language_info": {
   "codemirror_mode": {
    "name": "ipython",
    "version": 3
   },
   "file_extension": ".py",
   "mimetype": "text/x-python",
   "name": "python",
   "nbconvert_exporter": "python",
   "pygments_lexer": "ipython3",
   "version": "3.7.3"
  }
 },
 "nbformat": 4,
 "nbformat_minor": 2
}
