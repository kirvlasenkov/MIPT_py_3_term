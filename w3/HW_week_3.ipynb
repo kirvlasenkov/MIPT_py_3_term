{
 "cells": [
  {
   "cell_type": "markdown",
   "metadata": {},
   "source": [
    "# Домашнее задание по теме \"Работа с файлами\"\n",
    "\n",
    "### Власенков Кирилл Б03-907"
   ]
  },
  {
   "cell_type": "markdown",
   "metadata": {},
   "source": [
    "## Ex. 1\n",
    "\n",
    "\n",
    "Создайте произвольный текстовый файл с несколькими строками произвольного текста. Выведите в консоль строки файла, удалив\n",
    "лишние пробелы в начале и конце строк, если они есть (strip)."
   ]
  },
  {
   "cell_type": "code",
   "execution_count": 16,
   "metadata": {},
   "outputs": [
    {
     "name": "stdout",
     "output_type": "stream",
     "text": [
      "1 line is first line\n",
      "\n",
      "2 line is second line\n",
      "\n",
      "3 line is third line\n",
      "\n"
     ]
    }
   ],
   "source": [
    "with open(\"ex_1.txt\", \"w\", encoding='utf-8') as file:\n",
    "    file.writelines(['first line\\n', \"second line\\n\", \"third line\\n\"])\n",
    "    \n",
    "with open(\"ex_1.txt\", \"r\", encoding='utf-8') as file:\n",
    "    string_list = file.readlines()\n",
    "    \n",
    "    for string in string_list:\n",
    "        string = string.strip()\n",
    "        \n",
    "file = open(\"ex_1.txt\", \"r\", encoding='utf-8')\n",
    "for ind, line in enumerate(file):\n",
    "    print(str(ind + 1), \"line is\", line)"
   ]
  },
  {
   "cell_type": "markdown",
   "metadata": {},
   "source": [
    "## Ex.2\n",
    "\n",
    "Запишите в новый файл содержимое списка строк (каждую строку с новой строки) без использования цикла."
   ]
  },
  {
   "cell_type": "code",
   "execution_count": 18,
   "metadata": {},
   "outputs": [],
   "source": [
    "def write_lines(array, file_name):\n",
    "    \"\"\"записывает строки из array в файл file_name\"\"\"\n",
    "    \n",
    "    endl_func = lambda line: line + '\\n'\n",
    "    array = map(endl_func, array)\n",
    "    file_name.writelines(array)"
   ]
  },
  {
   "cell_type": "code",
   "execution_count": 20,
   "metadata": {},
   "outputs": [
    {
     "name": "stdout",
     "output_type": "stream",
     "text": [
      "1 line is hello\n",
      "\n",
      "2 line is world\n",
      "\n",
      "3 line is !!!\n",
      "\n"
     ]
    }
   ],
   "source": [
    "with open(\"ex_2.txt\", \"w\", encoding=\"utf-8\") as file:\n",
    "    write_lines([\"hello\", \"world\", \"!!!\"], file)\n",
    "\n",
    "file = open(\"ex_2.txt\", \"r\", encoding='utf-8')\n",
    "for ind, line in enumerate(file):\n",
    "    print(str(ind + 1), \"line is\", line)"
   ]
  },
  {
   "cell_type": "markdown",
   "metadata": {},
   "source": [
    "## Ex.3\n",
    "\n",
    " Вам дана в [архиве](http://cs.mipt.ru/advanced_python/extra/lab3/main.zip) файловая структура, состоящая из директорий и файлов.\n",
    "Необходимо распаковать этот архив **средствами языка python**, и затем найти в данной в файловой структуре все директории, в которых есть хотя бы один файл с расширением \".py\".\n",
    "Ответом на данную задачу будет являться файл со списком таких директорий, отсортированных в **лексикографическом порядке**."
   ]
  },
  {
   "cell_type": "code",
   "execution_count": 95,
   "metadata": {},
   "outputs": [],
   "source": [
    "import os\n",
    "import zipfile\n",
    "from pathlib import Path\n",
    "from glob import glob"
   ]
  },
  {
   "cell_type": "code",
   "execution_count": 96,
   "metadata": {},
   "outputs": [
    {
     "data": {
      "text/plain": [
       "'C:\\\\Users\\\\Кирилл\\\\CODING\\\\jup_NB\\\\seminar_MIPT\\\\main\\\\main'"
      ]
     },
     "execution_count": 96,
     "metadata": {},
     "output_type": "execute_result"
    }
   ],
   "source": [
    "# Где я?\n",
    "os.getcwd()"
   ]
  },
  {
   "cell_type": "code",
   "execution_count": 89,
   "metadata": {},
   "outputs": [],
   "source": [
    "# Распаковка архива\n",
    "with zipfile.ZipFile(\"C:\\\\Users\\\\Кирилл\\\\CODING\\\\jup_NB\\\\seminar_MIPT\\\\main.zip\") as zip_file:\n",
    "    zip_file.extractall(\"C:\\\\Users\\\\Кирилл\\\\CODING\\\\jup_NB\\\\seminar_MIPT\\\\main\")"
   ]
  },
  {
   "cell_type": "code",
   "execution_count": 126,
   "metadata": {},
   "outputs": [
    {
     "name": "stdout",
     "output_type": "stream",
     "text": [
      "0 folder is afkgv\n",
      "1 folder is frtrl\n",
      "2 folder is hgyoc\n",
      "3 folder is hgyoc\n",
      "4 folder is hgyoc\n",
      "5 folder is hgyoc\n",
      "6 folder is mwhci\n",
      "7 folder is qkseh\n",
      "8 folder is qkseh\n",
      "9 folder is sitdc\n",
      "10 folder is taivr\n",
      "11 folder is uvvuz\n",
      "12 folder is uvvuz\n",
      "13 folder is zyczx\n"
     ]
    }
   ],
   "source": [
    "# Работа непосредственно с самим main\n",
    "py_directories = list()\n",
    "\n",
    "path = Path('main') \n",
    "py_file = list(glob(\"**/*.py\"))\n",
    "\n",
    "for path in py_file:\n",
    "    path = str(path).split(\"\\\\\")\n",
    "    py_directories.append(path[0])\n",
    "    \n",
    "py_directories = sorted(py_directories)\n",
    "\n",
    "for ind, folder_name in enumerate(py_directories):\n",
    "    print(str(ind), \"folder is\", folder_name)\n",
    "\n"
   ]
  },
  {
   "cell_type": "markdown",
   "metadata": {},
   "source": [
    "## Ex.4"
   ]
  },
  {
   "cell_type": "code",
   "execution_count": null,
   "metadata": {},
   "outputs": [],
   "source": []
  }
 ],
 "metadata": {
  "kernelspec": {
   "display_name": "Python 3",
   "language": "python",
   "name": "python3"
  },
  "language_info": {
   "codemirror_mode": {
    "name": "ipython",
    "version": 3
   },
   "file_extension": ".py",
   "mimetype": "text/x-python",
   "name": "python",
   "nbconvert_exporter": "python",
   "pygments_lexer": "ipython3",
   "version": "3.7.3"
  }
 },
 "nbformat": 4,
 "nbformat_minor": 2
}
