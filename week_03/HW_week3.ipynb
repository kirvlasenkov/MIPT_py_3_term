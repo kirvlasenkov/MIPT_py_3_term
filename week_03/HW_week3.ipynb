{
 "cells": [
  {
   "cell_type": "markdown",
   "metadata": {},
   "source": [
    "# Домашнее задание по теме \"Работа с файлами\"\n",
    "\n",
    "### Власенков Кирилл Б03-907"
   ]
  },
  {
   "cell_type": "markdown",
   "metadata": {},
   "source": [
    "## Ex. 1\n",
    "\n",
    "\n",
    "Создайте произвольный текстовый файл с несколькими строками произвольного текста. Выведите в консоль строки файла, удалив\n",
    "лишние пробелы в начале и конце строк, если они есть (strip)."
   ]
  },
  {
   "cell_type": "code",
   "execution_count": 1,
   "metadata": {},
   "outputs": [
    {
     "name": "stdout",
     "output_type": "stream",
     "text": [
      "1 line is first line\n",
      "\n",
      "2 line is second line\n",
      "\n",
      "3 line is third line\n",
      "\n"
     ]
    }
   ],
   "source": [
    "with open(\"ex_1.txt\", \"w\", encoding='utf-8') as file:\n",
    "    file.writelines(['first line\\n', \"second line\\n\", \"third line\\n\"])\n",
    "    \n",
    "with open(\"ex_1.txt\", \"r\", encoding='utf-8') as file:\n",
    "    string_list = file.readlines()\n",
    "    \n",
    "    for string in string_list:\n",
    "        string = string.strip()\n",
    "        \n",
    "file = open(\"ex_1.txt\", \"r\", encoding='utf-8')\n",
    "for ind, line in enumerate(file):\n",
    "    print(str(ind + 1), \"line is\", line)"
   ]
  },
  {
   "cell_type": "markdown",
   "metadata": {},
   "source": [
    "## Ex.2\n",
    "\n",
    "Запишите в новый файл содержимое списка строк (каждую строку с новой строки) без использования цикла."
   ]
  },
  {
   "cell_type": "code",
   "execution_count": 2,
   "metadata": {},
   "outputs": [],
   "source": [
    "def write_lines(array, file_name):\n",
    "    \"\"\"записывает строки из array в файл file_name\"\"\"\n",
    "    \n",
    "    endl_func = lambda line: line + '\\n'\n",
    "    array = map(endl_func, array)\n",
    "    file_name.writelines(array)"
   ]
  },
  {
   "cell_type": "code",
   "execution_count": 3,
   "metadata": {},
   "outputs": [
    {
     "name": "stdout",
     "output_type": "stream",
     "text": [
      "1 line is hello\n",
      "\n",
      "2 line is world\n",
      "\n",
      "3 line is !!!\n",
      "\n"
     ]
    }
   ],
   "source": [
    "with open(\"ex_2.txt\", \"w\", encoding=\"utf-8\") as file:\n",
    "    write_lines([\"hello\", \"world\", \"!!!\"], file)\n",
    "\n",
    "file = open(\"ex_2.txt\", \"r\", encoding='utf-8')\n",
    "for ind, line in enumerate(file):\n",
    "    print(str(ind + 1), \"line is\", line)"
   ]
  },
  {
   "cell_type": "markdown",
   "metadata": {},
   "source": [
    "## Ex.3\n",
    "\n",
    " Вам дана в [архиве](http://cs.mipt.ru/advanced_python/extra/lab3/main.zip) файловая структура, состоящая из директорий и файлов.\n",
    "Необходимо распаковать этот архив **средствами языка python**, и затем найти в данной в файловой структуре все директории, в которых есть хотя бы один файл с расширением \".py\".\n",
    "Ответом на данную задачу будет являться файл со списком таких директорий, отсортированных в **лексикографическом порядке**."
   ]
  },
  {
   "cell_type": "code",
   "execution_count": 4,
   "metadata": {},
   "outputs": [],
   "source": [
    "import os\n",
    "import zipfile\n",
    "from pathlib import Path"
   ]
  },
  {
   "cell_type": "code",
   "execution_count": 5,
   "metadata": {},
   "outputs": [
    {
     "data": {
      "text/plain": [
       "'/Users/vlasenckov/MIPT/git_project/MIPT_py_3_term/w3'"
      ]
     },
     "execution_count": 5,
     "metadata": {},
     "output_type": "execute_result"
    }
   ],
   "source": [
    "# Где я?\n",
    "os.getcwd()"
   ]
  },
  {
   "cell_type": "code",
   "execution_count": 6,
   "metadata": {},
   "outputs": [],
   "source": [
    "# Распаковка архива\n",
    "with zipfile.ZipFile(\"/Users/vlasenckov/MIPT/git_project/MIPT_py_3_term/w3/main.zip\") as zip_file:\n",
    "    zip_file.extractall(\"/Users/vlasenckov/MIPT/git_project/MIPT_py_3_term/w3/main\")"
   ]
  },
  {
   "cell_type": "code",
   "execution_count": 7,
   "metadata": {},
   "outputs": [
    {
     "name": "stdout",
     "output_type": "stream",
     "text": [
      "0 folder abslw with file urqac.py\n",
      "1 folder afkgv with file bxdnn.py\n",
      "2 folder armko with file kchnx.py\n",
      "3 folder auqky with file afymg.py\n",
      "4 folder axqur with file snjsf.py\n",
      "5 folder bcsow with file ceqnw.py\n",
      "6 folder bdcjg with file lgunz.py\n",
      "7 folder bkfog with file dndhe.py\n",
      "8 folder bkfog with file drkat.py\n",
      "9 folder bpmhg with file ssizd.py\n",
      "10 folder bpmhg with file xoaoa.py\n",
      "11 folder cazio with file zxxeu.py\n",
      "12 folder cazio with file zkakj.py\n",
      "13 folder ckaab with file krlys.py\n",
      "14 folder ckaab with file zppuj.py\n",
      "15 folder ddnaa with file rvzwp.py\n",
      "16 folder ddnaa with file bffrb.py\n",
      "17 folder ddnaa with file lshgy.py\n",
      "18 folder djozj with file ptdnq.py\n",
      "19 folder dnyyv with file nozbp.py\n",
      "20 folder dnyyv with file jlife.py\n",
      "21 folder dnyyv with file dbmss.py\n",
      "22 folder dufxr with file mvznr.py\n",
      "23 folder frtrl with file eaemw.py\n",
      "24 folder ggfcr with file qqqpe.py\n",
      "25 folder ggfcr with file cgzfk.py\n",
      "26 folder ggfcr with file taevp.py\n",
      "27 folder grnfu with file cubok.py\n",
      "28 folder gvbnv with file qjicg.py\n",
      "29 folder hapry with file mejcl.py\n",
      "30 folder hapry with file pevsg.py\n",
      "31 folder hgyoc with file gvyia.py\n",
      "32 folder hgyoc with file avzvc.py\n",
      "33 folder hgyoc with file bnunx.py\n",
      "34 folder hgyoc with file mcesa.py\n",
      "35 folder hlgup with file wxxzu.py\n",
      "36 folder hotgx with file dudeb.py\n",
      "37 folder iaujh with file edamr.py\n",
      "38 folder iglcm with file equko.py\n",
      "39 folder iglcm with file wnzzk.py\n",
      "40 folder iglcm with file lfesp.py\n",
      "41 folder iglcm with file xpfmw.py\n",
      "42 folder iglcm with file cnems.py\n",
      "43 folder ilogc with file qtadz.py\n",
      "44 folder isyki with file sxnyt.py\n",
      "45 folder isyki with file pqzao.py\n",
      "46 folder itkcz with file rvjcx.py\n",
      "47 folder itkcz with file hoyms.py\n",
      "48 folder itkcz with file nnzmq.py\n",
      "49 folder ivjta with file kfllc.py\n",
      "50 folder izwwv with file zaxis.py\n",
      "51 folder izwwv with file xfqqg.py\n",
      "52 folder izwwv with file yhgoq.py\n",
      "53 folder joejy with file cewmk.py\n",
      "54 folder jqjsg with file wpqqa.py\n",
      "55 folder jqjsg with file nnrrb.py\n",
      "56 folder jqnsz with file ihdto.py\n",
      "57 folder jqnsz with file cfbxr.py\n",
      "58 folder jqnsz with file jqeou.py\n",
      "59 folder jtmnb with file rvzlj.py\n",
      "60 folder juoxd with file hjgdf.py\n",
      "61 folder jvmme with file ycnmt.py\n",
      "62 folder kafov with file uifjw.py\n",
      "63 folder kehsm with file racex.py\n",
      "64 folder kgdme with file euduy.py\n",
      "65 folder kgdme with file thrcn.py\n",
      "66 folder kgdme with file vwicr.py\n",
      "67 folder kgdme with file efipd.py\n",
      "68 folder kjmeo with file jfckr.py\n",
      "69 folder ksnof with file vjvey.py\n",
      "70 folder ktkfx with file mkydd.py\n",
      "71 folder kwawh with file lrzxd.py\n",
      "72 folder lirot with file auwzy.py\n",
      "73 folder lldpv with file nzmgi.py\n",
      "74 folder lldpv with file hzgem.py\n",
      "75 folder lldpv with file qxkag.py\n",
      "76 folder lradw with file dnjsf.py\n",
      "77 folder lszec with file pmxrs.py\n",
      "78 folder lszec with file sknss.py\n",
      "79 folder lszec with file jleiq.py\n",
      "80 folder main with file myjqk.py\n",
      "81 folder main with file qcdrm.py\n",
      "82 folder main with file yvgwm.py\n",
      "83 folder main with file nrlqk.py\n",
      "84 folder main with file wxhtw.py\n",
      "85 folder main with file fjcnm.py\n",
      "86 folder main with file fpyfb.py\n",
      "87 folder main with file nelpv.py\n",
      "88 folder main with file lzccb.py\n",
      "89 folder main with file iwohr.py\n",
      "90 folder main with file jogpz.py\n",
      "91 folder main with file suvtu.py\n",
      "92 folder mhqps with file vkvkp.py\n",
      "93 folder mhqps with file uqqxx.py\n",
      "94 folder mmtsz with file hamfm.py\n",
      "95 folder mmtsz with file ngutc.py\n",
      "96 folder mmtsz with file rsolr.py\n",
      "97 folder mmtsz with file elpwr.py\n",
      "98 folder mwhci with file ttopz.py\n",
      "99 folder nfcxf with file uvmef.py\n",
      "100 folder nuiwj with file qtfig.py\n",
      "101 folder otofk with file akmok.py\n",
      "102 folder otofk with file ybrdw.py\n",
      "103 folder otofk with file pbidc.py\n",
      "104 folder phcap with file udied.py\n",
      "105 folder phcud with file oehnz.py\n",
      "106 folder purto with file uvulr.py\n",
      "107 folder purto with file ssjjr.py\n",
      "108 folder purto with file zclmh.py\n",
      "109 folder purto with file zbqui.py\n",
      "110 folder purto with file sjhjd.py\n",
      "111 folder purto with file trope.py\n",
      "112 folder pxjip with file lmrtv.py\n",
      "113 folder pxjip with file aniue.py\n",
      "114 folder pxjip with file mcvwk.py\n",
      "115 folder pxjip with file ssfuy.py\n",
      "116 folder qkseh with file mmvbh.py\n",
      "117 folder qkseh with file fdfju.py\n",
      "118 folder qosgw with file qpajn.py\n",
      "119 folder qrxwt with file djwiq.py\n",
      "120 folder qwlrx with file blvtq.py\n",
      "121 folder qwlrx with file hzhfn.py\n",
      "122 folder qwlrx with file loqtf.py\n",
      "123 folder qwlrx with file hstyv.py\n",
      "124 folder rbyav with file xipxd.py\n",
      "125 folder rbyav with file bxijj.py\n",
      "126 folder rcsvd with file lmyue.py\n",
      "127 folder reshp with file raznl.py\n",
      "128 folder reshp with file wevmv.py\n",
      "129 folder reshp with file czkpi.py\n",
      "130 folder rhvqn with file lxlbl.py\n",
      "131 folder rjqjr with file megyo.py\n",
      "132 folder rnqwd with file sbjht.py\n",
      "133 folder rnqwd with file obcpa.py\n",
      "134 folder rpnzm with file wqsqb.py\n",
      "135 folder rpnzm with file cdlnj.py\n",
      "136 folder rpnzm with file kholn.py\n",
      "137 folder rpnzm with file kxafz.py\n",
      "138 folder rvsfo with file girkd.py\n",
      "139 folder rwwuw with file xwmnb.py\n",
      "140 folder rzgzv with file yraxd.py\n",
      "141 folder sgmoj with file zxoah.py\n",
      "142 folder sgmoj with file oteke.py\n",
      "143 folder sitdc with file kvayn.py\n",
      "144 folder sosdj with file kjava.py\n",
      "145 folder subdi with file uiwot.py\n",
      "146 folder subdi with file wmlla.py\n",
      "147 folder subdi with file ccyrz.py\n",
      "148 folder subdi with file cbdqd.py\n",
      "149 folder subdi with file eihrp.py\n",
      "150 folder subdi with file cqugd.py\n",
      "151 folder subdi with file ptykj.py\n",
      "152 folder subdi with file fwxhe.py\n",
      "153 folder sxojq with file frdru.py\n",
      "154 folder sxojq with file ltedx.py\n",
      "155 folder taivr with file nvbgf.py\n",
      "156 folder tpdvr with file pfoyt.py\n",
      "157 folder tyapv with file vzkic.py\n",
      "158 folder tyapv with file dwwlp.py\n",
      "159 folder tyapv with file mrkmf.py\n",
      "160 folder uaodv with file dikzy.py\n",
      "161 folder ujtgh with file aqqzt.py\n",
      "162 folder ujtgh with file uhuvh.py\n",
      "163 folder uuyrs with file lzvgo.py\n",
      "164 folder uvvuz with file bmuav.py\n",
      "165 folder uvvuz with file ksfjq.py\n",
      "166 folder vkntp with file nujsg.py\n",
      "167 folder vydse with file yzhtw.py\n",
      "168 folder vynzv with file qtxsm.py\n",
      "169 folder wfnda with file wenln.py\n",
      "170 folder wtgrc with file gwqic.py\n",
      "171 folder wtgrc with file smnsc.py\n",
      "172 folder wthmo with file kdfnf.py\n",
      "173 folder wthmo with file ewpru.py\n",
      "174 folder wthmo with file puzpd.py\n",
      "175 folder wvwva with file ehaxe.py\n",
      "176 folder wvwva with file fwutv.py\n",
      "177 folder wvwva with file ghtwx.py\n",
      "178 folder xjrqt with file wvtgk.py\n",
      "179 folder xpmcm with file eslhq.py\n",
      "180 folder xriod with file ifjxk.py\n",
      "181 folder xroxl with file lagpy.py\n",
      "182 folder xrvnu with file rovjs.py\n",
      "183 folder xrvnu with file dxvcb.py\n",
      "184 folder xsbzr with file tpzyb.py\n",
      "185 folder yujjk with file tmonk.py\n",
      "186 folder ywjka with file kisdi.py\n",
      "187 folder ywjka with file ailhc.py\n",
      "188 folder ywjxy with file isljh.py\n",
      "189 folder ywucw with file rwejw.py\n",
      "190 folder ywucw with file ixrqq.py\n",
      "191 folder ywucw with file rjjzv.py\n",
      "192 folder zfukg with file yqthe.py\n",
      "193 folder zfukg with file xcarh.py\n",
      "194 folder zfukg with file exewx.py\n",
      "195 folder zfukg with file wggct.py\n",
      "196 folder zfukg with file ncajz.py\n",
      "197 folder zfukg with file vtsov.py\n",
      "198 folder zljoz with file tkmtk.py\n",
      "199 folder zljoz with file swqks.py\n",
      "200 folder zyczx with file njkyn.py\n"
     ]
    }
   ],
   "source": [
    "# Через рекурсивный обход\n",
    "py_directories = []\n",
    "for current_dir, dirs, files in os.walk(\".\"):\n",
    "    for file in files:\n",
    "        if file.endswith(\".py\"):\n",
    "            current = current_dir.split(\"/\")\n",
    "            py_directories.append((file, current[-1]))\n",
    "            \n",
    "py_directories = sorted(py_directories, key=lambda x: x[1])\n",
    "\n",
    "for ind, folder_name in enumerate(py_directories):\n",
    "    print(str(ind), \"folder\", folder_name[1],\n",
    "          \"with file\", folder_name[0])"
   ]
  },
  {
   "cell_type": "code",
   "execution_count": 8,
   "metadata": {},
   "outputs": [
    {
     "name": "stdout",
     "output_type": "stream",
     "text": [
      "0 folder abslw with file urqac.py\n",
      "1 folder afkgv with file bxdnn.py\n",
      "2 folder armko with file kchnx.py\n",
      "3 folder auqky with file afymg.py\n",
      "4 folder axqur with file snjsf.py\n",
      "5 folder bcsow with file ceqnw.py\n",
      "6 folder bdcjg with file lgunz.py\n",
      "7 folder bkfog with file dndhe.py\n",
      "8 folder bkfog with file drkat.py\n",
      "9 folder bpmhg with file ssizd.py\n",
      "10 folder bpmhg with file xoaoa.py\n",
      "11 folder cazio with file zxxeu.py\n",
      "12 folder cazio with file zkakj.py\n",
      "13 folder ckaab with file krlys.py\n",
      "14 folder ckaab with file zppuj.py\n",
      "15 folder ddnaa with file rvzwp.py\n",
      "16 folder ddnaa with file bffrb.py\n",
      "17 folder ddnaa with file lshgy.py\n",
      "18 folder djozj with file ptdnq.py\n",
      "19 folder dnyyv with file nozbp.py\n",
      "20 folder dnyyv with file jlife.py\n",
      "21 folder dnyyv with file dbmss.py\n",
      "22 folder dufxr with file mvznr.py\n",
      "23 folder frtrl with file eaemw.py\n",
      "24 folder ggfcr with file qqqpe.py\n",
      "25 folder ggfcr with file cgzfk.py\n",
      "26 folder ggfcr with file taevp.py\n",
      "27 folder grnfu with file cubok.py\n",
      "28 folder gvbnv with file qjicg.py\n",
      "29 folder hapry with file mejcl.py\n",
      "30 folder hapry with file pevsg.py\n",
      "31 folder hgyoc with file gvyia.py\n",
      "32 folder hgyoc with file avzvc.py\n",
      "33 folder hgyoc with file bnunx.py\n",
      "34 folder hgyoc with file mcesa.py\n",
      "35 folder hlgup with file wxxzu.py\n",
      "36 folder hotgx with file dudeb.py\n",
      "37 folder iaujh with file edamr.py\n",
      "38 folder iglcm with file equko.py\n",
      "39 folder iglcm with file wnzzk.py\n",
      "40 folder iglcm with file lfesp.py\n",
      "41 folder iglcm with file xpfmw.py\n",
      "42 folder iglcm with file cnems.py\n",
      "43 folder ilogc with file qtadz.py\n",
      "44 folder isyki with file sxnyt.py\n",
      "45 folder isyki with file pqzao.py\n",
      "46 folder itkcz with file rvjcx.py\n",
      "47 folder itkcz with file hoyms.py\n",
      "48 folder itkcz with file nnzmq.py\n",
      "49 folder ivjta with file kfllc.py\n",
      "50 folder izwwv with file zaxis.py\n",
      "51 folder izwwv with file xfqqg.py\n",
      "52 folder izwwv with file yhgoq.py\n",
      "53 folder joejy with file cewmk.py\n",
      "54 folder jqjsg with file wpqqa.py\n",
      "55 folder jqjsg with file nnrrb.py\n",
      "56 folder jqnsz with file ihdto.py\n",
      "57 folder jqnsz with file cfbxr.py\n",
      "58 folder jqnsz with file jqeou.py\n",
      "59 folder jtmnb with file rvzlj.py\n",
      "60 folder juoxd with file hjgdf.py\n",
      "61 folder jvmme with file ycnmt.py\n",
      "62 folder kafov with file uifjw.py\n",
      "63 folder kehsm with file racex.py\n",
      "64 folder kgdme with file euduy.py\n",
      "65 folder kgdme with file thrcn.py\n",
      "66 folder kgdme with file vwicr.py\n",
      "67 folder kgdme with file efipd.py\n",
      "68 folder kjmeo with file jfckr.py\n",
      "69 folder ksnof with file vjvey.py\n",
      "70 folder ktkfx with file mkydd.py\n",
      "71 folder kwawh with file lrzxd.py\n",
      "72 folder lirot with file auwzy.py\n",
      "73 folder lldpv with file nzmgi.py\n",
      "74 folder lldpv with file hzgem.py\n",
      "75 folder lldpv with file qxkag.py\n",
      "76 folder lradw with file dnjsf.py\n",
      "77 folder lszec with file pmxrs.py\n",
      "78 folder lszec with file sknss.py\n",
      "79 folder lszec with file jleiq.py\n",
      "80 folder main with file myjqk.py\n",
      "81 folder main with file qcdrm.py\n",
      "82 folder main with file yvgwm.py\n",
      "83 folder main with file nrlqk.py\n",
      "84 folder main with file wxhtw.py\n",
      "85 folder main with file fjcnm.py\n",
      "86 folder main with file fpyfb.py\n",
      "87 folder main with file nelpv.py\n",
      "88 folder main with file lzccb.py\n",
      "89 folder main with file iwohr.py\n",
      "90 folder main with file jogpz.py\n",
      "91 folder main with file suvtu.py\n",
      "92 folder mhqps with file vkvkp.py\n",
      "93 folder mhqps with file uqqxx.py\n",
      "94 folder mmtsz with file hamfm.py\n",
      "95 folder mmtsz with file ngutc.py\n",
      "96 folder mmtsz with file rsolr.py\n",
      "97 folder mmtsz with file elpwr.py\n",
      "98 folder mwhci with file ttopz.py\n",
      "99 folder nfcxf with file uvmef.py\n",
      "100 folder nuiwj with file qtfig.py\n",
      "101 folder otofk with file akmok.py\n",
      "102 folder otofk with file ybrdw.py\n",
      "103 folder otofk with file pbidc.py\n",
      "104 folder phcap with file udied.py\n",
      "105 folder phcud with file oehnz.py\n",
      "106 folder purto with file uvulr.py\n",
      "107 folder purto with file ssjjr.py\n",
      "108 folder purto with file zclmh.py\n",
      "109 folder purto with file zbqui.py\n",
      "110 folder purto with file sjhjd.py\n",
      "111 folder purto with file trope.py\n",
      "112 folder pxjip with file lmrtv.py\n",
      "113 folder pxjip with file aniue.py\n",
      "114 folder pxjip with file mcvwk.py\n",
      "115 folder pxjip with file ssfuy.py\n",
      "116 folder qkseh with file mmvbh.py\n",
      "117 folder qkseh with file fdfju.py\n",
      "118 folder qosgw with file qpajn.py\n",
      "119 folder qrxwt with file djwiq.py\n",
      "120 folder qwlrx with file blvtq.py\n",
      "121 folder qwlrx with file hzhfn.py\n",
      "122 folder qwlrx with file loqtf.py\n",
      "123 folder qwlrx with file hstyv.py\n",
      "124 folder rbyav with file xipxd.py\n",
      "125 folder rbyav with file bxijj.py\n",
      "126 folder rcsvd with file lmyue.py\n",
      "127 folder reshp with file raznl.py\n",
      "128 folder reshp with file wevmv.py\n",
      "129 folder reshp with file czkpi.py\n",
      "130 folder rhvqn with file lxlbl.py\n",
      "131 folder rjqjr with file megyo.py\n",
      "132 folder rnqwd with file sbjht.py\n",
      "133 folder rnqwd with file obcpa.py\n",
      "134 folder rpnzm with file wqsqb.py\n",
      "135 folder rpnzm with file cdlnj.py\n",
      "136 folder rpnzm with file kholn.py\n",
      "137 folder rpnzm with file kxafz.py\n",
      "138 folder rvsfo with file girkd.py\n",
      "139 folder rwwuw with file xwmnb.py\n",
      "140 folder rzgzv with file yraxd.py\n",
      "141 folder sgmoj with file zxoah.py\n",
      "142 folder sgmoj with file oteke.py\n",
      "143 folder sitdc with file kvayn.py\n",
      "144 folder sosdj with file kjava.py\n",
      "145 folder subdi with file uiwot.py\n",
      "146 folder subdi with file wmlla.py\n",
      "147 folder subdi with file ccyrz.py\n",
      "148 folder subdi with file cbdqd.py\n",
      "149 folder subdi with file eihrp.py\n",
      "150 folder subdi with file cqugd.py\n",
      "151 folder subdi with file ptykj.py\n",
      "152 folder subdi with file fwxhe.py\n",
      "153 folder sxojq with file frdru.py\n",
      "154 folder sxojq with file ltedx.py\n",
      "155 folder taivr with file nvbgf.py\n",
      "156 folder tpdvr with file pfoyt.py\n",
      "157 folder tyapv with file vzkic.py\n",
      "158 folder tyapv with file dwwlp.py\n",
      "159 folder tyapv with file mrkmf.py\n",
      "160 folder uaodv with file dikzy.py\n",
      "161 folder ujtgh with file aqqzt.py\n",
      "162 folder ujtgh with file uhuvh.py\n",
      "163 folder uuyrs with file lzvgo.py\n",
      "164 folder uvvuz with file bmuav.py\n",
      "165 folder uvvuz with file ksfjq.py\n",
      "166 folder vkntp with file nujsg.py\n",
      "167 folder vydse with file yzhtw.py\n",
      "168 folder vynzv with file qtxsm.py\n",
      "169 folder wfnda with file wenln.py\n",
      "170 folder wtgrc with file gwqic.py\n",
      "171 folder wtgrc with file smnsc.py\n",
      "172 folder wthmo with file kdfnf.py\n",
      "173 folder wthmo with file ewpru.py\n",
      "174 folder wthmo with file puzpd.py\n",
      "175 folder wvwva with file ehaxe.py\n",
      "176 folder wvwva with file fwutv.py\n",
      "177 folder wvwva with file ghtwx.py\n",
      "178 folder xjrqt with file wvtgk.py\n",
      "179 folder xpmcm with file eslhq.py\n",
      "180 folder xriod with file ifjxk.py\n",
      "181 folder xroxl with file lagpy.py\n",
      "182 folder xrvnu with file rovjs.py\n",
      "183 folder xrvnu with file dxvcb.py\n",
      "184 folder xsbzr with file tpzyb.py\n",
      "185 folder yujjk with file tmonk.py\n",
      "186 folder ywjka with file kisdi.py\n",
      "187 folder ywjka with file ailhc.py\n",
      "188 folder ywjxy with file isljh.py\n",
      "189 folder ywucw with file rwejw.py\n",
      "190 folder ywucw with file ixrqq.py\n",
      "191 folder ywucw with file rjjzv.py\n",
      "192 folder zfukg with file yqthe.py\n",
      "193 folder zfukg with file xcarh.py\n",
      "194 folder zfukg with file exewx.py\n",
      "195 folder zfukg with file wggct.py\n",
      "196 folder zfukg with file ncajz.py\n",
      "197 folder zfukg with file vtsov.py\n",
      "198 folder zljoz with file tkmtk.py\n",
      "199 folder zljoz with file swqks.py\n",
      "200 folder zyczx with file njkyn.py\n"
     ]
    }
   ],
   "source": [
    "# через всякие приблуды с path\n",
    "py_directories = list()\n",
    "\n",
    "path = Path('main') \n",
    "py_file = list(path.glob('**/*.py'))\n",
    "\n",
    "for file in py_file:\n",
    "    py_directories.append((file.parts[-1], file.parts[-2]))\n",
    "\n",
    "\n",
    "py_directories = sorted(py_directories, key=lambda x: x[1])\n",
    "\n",
    "for ind, folder_name in enumerate(py_directories):\n",
    "    print(str(ind), \"folder\", folder_name[1],\n",
    "          \"with file\", folder_name[0])"
   ]
  },
  {
   "cell_type": "markdown",
   "metadata": {},
   "source": [
    "## Ex.4-5\n",
    "\n",
    "4. Загрузить `1.json` из папки w3/ и открыть его в питоне.\n",
    "Добавить внутрь \"GlossEntry\" свойство {\"week\": 3} и сохранить результат в файл `1.json` двумя способами:\n",
    "    - через `json.dumps()`\n",
    "    - через `json.dump()`"
   ]
  },
  {
   "cell_type": "code",
   "execution_count": 9,
   "metadata": {},
   "outputs": [],
   "source": [
    "import json"
   ]
  },
  {
   "cell_type": "code",
   "execution_count": 10,
   "metadata": {},
   "outputs": [
    {
     "name": "stdout",
     "output_type": "stream",
     "text": [
      "Notice, that the type of file_py is  <class 'dict'> \n",
      "\n",
      "\n",
      "\n",
      "\n",
      "{\n",
      "    \"glossary\": {\n",
      "        \"title\": \"example glossary\",\n",
      "        \"GlossDiv\": {\n",
      "            \"title\": null,\n",
      "            \"GlossList\": {\n",
      "                \"GlossEntry\": {\n",
      "                    \"ID\": \"SGML\",\n",
      "                    \"SortAs\": \"SGML\",\n",
      "                    \"GlossTerm\": \"Standard Generalized Markup Language\",\n",
      "                    \"Acronym\": \"SGML\",\n",
      "                    \"IsReal\": true,\n",
      "                    \"Abbrev\": \"ISO 8879:1986\",\n",
      "                    \"GlossDef\": {\n",
      "                        \"para\": \"A meta-markup language, used to create markup languages such as DocBook.\",\n",
      "                        \"GlossSeeAlso\": [\n",
      "                            \"GML\",\n",
      "                            \"XML\"\n",
      "                        ]\n",
      "                    },\n",
      "                    \"GlossSee\": \"markup\",\n",
      "                    \"week\": 3\n",
      "                }\n",
      "            }\n",
      "        }\n",
      "    }\n",
      "}\n",
      "\n",
      "\n",
      "снова <class 'dict'>\n"
     ]
    }
   ],
   "source": [
    "with open(\"1.json\", 'r') as file:\n",
    "    \n",
    "    # from json to python\n",
    "    file_py = json.load(file)\n",
    "    file_py[\"glossary\"][\"GlossDiv\"][\"GlossList\"][\"GlossEntry\"][\"week\"] = 3\n",
    "    print(\"Notice, that the type of {} is \".format(\"file_py\"), (type(file_py)), '\\n\\n\\n\\n')\n",
    "    \n",
    "    print(json.dumps(file_py, indent=4))\n",
    "   \n",
    "with open('1.json', \"w\") as file:\n",
    "    json.dump(file_py, file)\n",
    "\n",
    "with open(\"1.json\") as file:\n",
    "    file = json.load(file)\n",
    "    print(\"\\n\\nснова\", type(file))\n",
    "    "
   ]
  },
  {
   "cell_type": "markdown",
   "metadata": {},
   "source": [
    "## Ex. 6\n",
    "\n",
    "5. Загрузить `table.csv` из папки w3/ и открыть его в питоне.\n",
    "Считать содержимое в массив.\n",
    "Добавить в массив строку из повторяющихся чисел -200 в середину файла и сохранить массив в CSV-файл с именем `middle_row.csv`."
   ]
  },
  {
   "cell_type": "code",
   "execution_count": 11,
   "metadata": {},
   "outputs": [],
   "source": [
    "import csv"
   ]
  },
  {
   "cell_type": "code",
   "execution_count": 12,
   "metadata": {},
   "outputs": [],
   "source": [
    "# читаю, а что тут вообще имеется...\n",
    "with open(\"table.csv\") as table:\n",
    "    reader = csv.reader(table)\n",
    "    new_table = open(\"middle_row.csv\", \"w\")\n",
    "    writer = csv.writer(new_table)\n",
    "    length = 7\n",
    "        \n",
    "    for ind, row in enumerate(reader):\n",
    "        if ind == length // 2:\n",
    "            break\n",
    "        else:\n",
    "            writer.writerow(row)\n",
    "    \n",
    "    new_table.close()\n"
   ]
  },
  {
   "cell_type": "code",
   "execution_count": 13,
   "metadata": {},
   "outputs": [
    {
     "data": {
      "text/plain": [
       "'def csv_writer(path, data,  header_line=[\\'Username\\',\\' Identifier\\',\\'First name\\',\\'Last name\\']):\\n    with open(path, \"a\") as table:\\n        writer = csv.DictWriter(table, fieldnames=header_line)\\n        \\n        for row in data:\\n            writer.writerow(row)\\n            \\ndata = dict((zip(\\'Username; Identifier;First name;Last name\\'.split(\\';\\'),\\n           [-200, -200, -200, -200])))\\nprint(data)'"
      ]
     },
     "execution_count": 13,
     "metadata": {},
     "output_type": "execute_result"
    }
   ],
   "source": [
    "# # вносим поправки\n",
    "'''def csv_writer(path, data,  header_line=['Username',' Identifier','First name','Last name']):\n",
    "    with open(path, \"a\") as table:\n",
    "        writer = csv.DictWriter(table, fieldnames=header_line)\n",
    "        \n",
    "        for row in data:\n",
    "            writer.writerow(row)\n",
    "            \n",
    "data = dict((zip('Username; Identifier;First name;Last name'.split(';'),\n",
    "           [-200, -200, -200, -200])))\n",
    "print(data)'''"
   ]
  },
  {
   "cell_type": "code",
   "execution_count": 14,
   "metadata": {},
   "outputs": [],
   "source": [
    "with open(\"middle_row.csv\", \"a\") as table:\n",
    "    writer = csv.writer(table)\n",
    "    writer.writerow(['-200;-200;-200;-200'])\n",
    "    \n",
    "    orig_table = open(\"table.csv\", \"r\")\n",
    "    reader = csv.reader(orig_table)\n",
    "    for ind, row in enumerate(reader):\n",
    "        if ind < length // 2:\n",
    "            continue\n",
    "        else:\n",
    "            writer.writerow(row)\n",
    "    orig_table.close()"
   ]
  },
  {
   "cell_type": "markdown",
   "metadata": {},
   "source": [
    "## Ex.7 \n",
    "\n",
    "6. Загрузить `table.csv` из папки w3/ и открыть его в питоне.\n",
    "Считать содержимое в массив.\n",
    "Добавить колонку (!) с именем `my_col` и значениями на каждом ряду `True`.\n",
    "Сохранить полученный массив в CSV-файл с именем `new_col.csv`."
   ]
  },
  {
   "cell_type": "code",
   "execution_count": 15,
   "metadata": {},
   "outputs": [],
   "source": [
    "with open(\"table.csv\", \"r\") as table:\n",
    "    reader = csv.reader(table)\n",
    "    table_row_array = []\n",
    "    \n",
    "    for row in reader:\n",
    "        table_row_array.append(row)\n",
    "    \n",
    "    table_row_array[0][0] += ';my_col'\n",
    "    for i in range(1, len(table_row_array) - 1):\n",
    "        table_row_array[i][0] += ';{}'.format(\"True\") \n",
    "        \n",
    "    new_table = open(\"new_col.csv\", \"w\")\n",
    "    writer = csv.writer(new_table)\n",
    "    for row in table_row_array:\n",
    "        writer.writerow(row)\n",
    "    new_table.close()"
   ]
  },
  {
   "cell_type": "markdown",
   "metadata": {},
   "source": [
    "## Ex. 8\n",
    "\n",
    "7. Создать код, который выбрасывает `ZeroDivisionError`. Обернуть его в `try/except` и вывести \"Делим на ноль\" в случае деления на ноль."
   ]
  },
  {
   "cell_type": "code",
   "execution_count": 16,
   "metadata": {},
   "outputs": [
    {
     "name": "stdout",
     "output_type": "stream",
     "text": [
      "ОЙ, а что это вы тут на ноль делите!!!!\n"
     ]
    }
   ],
   "source": [
    "try:\n",
    "    100 / 0\n",
    "\n",
    "except ZeroDivisionError:\n",
    "    print(\"ОЙ, а что это вы тут на ноль делите!!!!\")"
   ]
  },
  {
   "cell_type": "markdown",
   "metadata": {},
   "source": [
    "## Ex.9"
   ]
  },
  {
   "cell_type": "code",
   "execution_count": 17,
   "metadata": {},
   "outputs": [
    {
     "name": "stdout",
     "output_type": "stream",
     "text": [
      "Остановитесь!!! Не надо из строки делать целый тип!!\n",
      "Не знаю, была ли ошибка или нет, меня в любом случае распечатают...\n"
     ]
    }
   ],
   "source": [
    "try:\n",
    "    int(\"hello, world\")\n",
    "\n",
    "except ValueError:\n",
    "    print(\"Остановитесь!!! Не надо из строки делать целый тип!!\")\n",
    "    \n",
    "finally:\n",
    "    print(\"Не знаю, была ли ошибка или нет, меня в любом случае распечатают...\")"
   ]
  },
  {
   "cell_type": "code",
   "execution_count": 18,
   "metadata": {},
   "outputs": [
    {
     "name": "stdout",
     "output_type": "stream",
     "text": [
      "Не знаю, была ли ошибка или нет, меня в любом случае распечатают...\n"
     ]
    }
   ],
   "source": [
    "try:\n",
    "    int(\"100\")\n",
    "\n",
    "except ValueError:\n",
    "    print(\"Остановитесь!!! Не надо из строки делать целый тип!!\")\n",
    "    \n",
    "finally:\n",
    "    print(\"Не знаю, была ли ошибка или нет, меня в любом случае распечатают...\")"
   ]
  },
  {
   "cell_type": "markdown",
   "metadata": {},
   "source": [
    "## Ex.10"
   ]
  },
  {
   "cell_type": "code",
   "execution_count": 19,
   "metadata": {},
   "outputs": [
    {
     "name": "stdout",
     "output_type": "stream",
     "text": [
      "1e-100\n",
      "слишком близко к нулю\n"
     ]
    }
   ],
   "source": [
    "class CloseToZero(Exception):\n",
    "    def __init__(self, text):\n",
    "        self.txt = text\n",
    "        \n",
    "number = float(input())\n",
    "\n",
    "try:\n",
    "    1/number\n",
    "    if abs(number) <= 1e-3:\n",
    "        raise CloseToZero(\"слишком близко к нулю\")\n",
    "            \n",
    "except ZeroDivisionError:\n",
    "    print(\"нельзя делить на ноль\")\n",
    "    \n",
    "except CloseToZero as ctz:\n",
    "    print(ctz)"
   ]
  },
  {
   "cell_type": "markdown",
   "metadata": {},
   "source": [
    "## Ex.11\n",
    "\n",
    "Написать код, который вызывает функции в порядке a() -> b() -> c(), а в функцию c заложите raise ValueError('my exception') (функции a, b, c надо самому объявить). Посмотрите на стек-трейс - видно ли, где из трех функций появилась ошибка? Сделайте скриншот, залейте в репозиторий и будьте готовы ответить на вопросы по чтению stack trace."
   ]
  },
  {
   "cell_type": "code",
   "execution_count": 20,
   "metadata": {},
   "outputs": [
    {
     "ename": "ValueError",
     "evalue": "my exception",
     "output_type": "error",
     "traceback": [
      "\u001b[0;31m---------------------------------------------------------------------------\u001b[0m",
      "\u001b[0;31mValueError\u001b[0m                                Traceback (most recent call last)",
      "\u001b[0;32m<ipython-input-20-6fbee6b30a6a>\u001b[0m in \u001b[0;36m<module>\u001b[0;34m\u001b[0m\n\u001b[1;32m      8\u001b[0m     \u001b[0;32mraise\u001b[0m \u001b[0mValueError\u001b[0m\u001b[0;34m(\u001b[0m\u001b[0;34m\"my exception\"\u001b[0m\u001b[0;34m)\u001b[0m\u001b[0;34m\u001b[0m\u001b[0;34m\u001b[0m\u001b[0m\n\u001b[1;32m      9\u001b[0m \u001b[0;34m\u001b[0m\u001b[0m\n\u001b[0;32m---> 10\u001b[0;31m \u001b[0ma\u001b[0m\u001b[0;34m(\u001b[0m\u001b[0;34m)\u001b[0m\u001b[0;34m\u001b[0m\u001b[0;34m\u001b[0m\u001b[0m\n\u001b[0m\u001b[1;32m     11\u001b[0m \u001b[0mb\u001b[0m\u001b[0;34m(\u001b[0m\u001b[0;34m)\u001b[0m\u001b[0;34m\u001b[0m\u001b[0;34m\u001b[0m\u001b[0m\n\u001b[1;32m     12\u001b[0m \u001b[0mc\u001b[0m\u001b[0;34m(\u001b[0m\u001b[0;34m)\u001b[0m\u001b[0;34m\u001b[0m\u001b[0;34m\u001b[0m\u001b[0m\n",
      "\u001b[0;32m<ipython-input-20-6fbee6b30a6a>\u001b[0m in \u001b[0;36ma\u001b[0;34m()\u001b[0m\n\u001b[1;32m      1\u001b[0m \u001b[0;32mdef\u001b[0m \u001b[0ma\u001b[0m\u001b[0;34m(\u001b[0m\u001b[0;34m)\u001b[0m\u001b[0;34m:\u001b[0m\u001b[0;34m\u001b[0m\u001b[0;34m\u001b[0m\u001b[0m\n\u001b[0;32m----> 2\u001b[0;31m     \u001b[0;32mreturn\u001b[0m \u001b[0mb\u001b[0m\u001b[0;34m(\u001b[0m\u001b[0;34m)\u001b[0m\u001b[0;34m\u001b[0m\u001b[0;34m\u001b[0m\u001b[0m\n\u001b[0m\u001b[1;32m      3\u001b[0m \u001b[0;34m\u001b[0m\u001b[0m\n\u001b[1;32m      4\u001b[0m \u001b[0;32mdef\u001b[0m \u001b[0mb\u001b[0m\u001b[0;34m(\u001b[0m\u001b[0;34m)\u001b[0m\u001b[0;34m:\u001b[0m\u001b[0;34m\u001b[0m\u001b[0;34m\u001b[0m\u001b[0m\n\u001b[1;32m      5\u001b[0m     \u001b[0;32mreturn\u001b[0m \u001b[0mc\u001b[0m\u001b[0;34m(\u001b[0m\u001b[0;34m)\u001b[0m\u001b[0;34m\u001b[0m\u001b[0;34m\u001b[0m\u001b[0m\n",
      "\u001b[0;32m<ipython-input-20-6fbee6b30a6a>\u001b[0m in \u001b[0;36mb\u001b[0;34m()\u001b[0m\n\u001b[1;32m      3\u001b[0m \u001b[0;34m\u001b[0m\u001b[0m\n\u001b[1;32m      4\u001b[0m \u001b[0;32mdef\u001b[0m \u001b[0mb\u001b[0m\u001b[0;34m(\u001b[0m\u001b[0;34m)\u001b[0m\u001b[0;34m:\u001b[0m\u001b[0;34m\u001b[0m\u001b[0;34m\u001b[0m\u001b[0m\n\u001b[0;32m----> 5\u001b[0;31m     \u001b[0;32mreturn\u001b[0m \u001b[0mc\u001b[0m\u001b[0;34m(\u001b[0m\u001b[0;34m)\u001b[0m\u001b[0;34m\u001b[0m\u001b[0;34m\u001b[0m\u001b[0m\n\u001b[0m\u001b[1;32m      6\u001b[0m \u001b[0;34m\u001b[0m\u001b[0m\n\u001b[1;32m      7\u001b[0m \u001b[0;32mdef\u001b[0m \u001b[0mc\u001b[0m\u001b[0;34m(\u001b[0m\u001b[0;34m)\u001b[0m\u001b[0;34m:\u001b[0m\u001b[0;34m\u001b[0m\u001b[0;34m\u001b[0m\u001b[0m\n",
      "\u001b[0;32m<ipython-input-20-6fbee6b30a6a>\u001b[0m in \u001b[0;36mc\u001b[0;34m()\u001b[0m\n\u001b[1;32m      6\u001b[0m \u001b[0;34m\u001b[0m\u001b[0m\n\u001b[1;32m      7\u001b[0m \u001b[0;32mdef\u001b[0m \u001b[0mc\u001b[0m\u001b[0;34m(\u001b[0m\u001b[0;34m)\u001b[0m\u001b[0;34m:\u001b[0m\u001b[0;34m\u001b[0m\u001b[0;34m\u001b[0m\u001b[0m\n\u001b[0;32m----> 8\u001b[0;31m     \u001b[0;32mraise\u001b[0m \u001b[0mValueError\u001b[0m\u001b[0;34m(\u001b[0m\u001b[0;34m\"my exception\"\u001b[0m\u001b[0;34m)\u001b[0m\u001b[0;34m\u001b[0m\u001b[0;34m\u001b[0m\u001b[0m\n\u001b[0m\u001b[1;32m      9\u001b[0m \u001b[0;34m\u001b[0m\u001b[0m\n\u001b[1;32m     10\u001b[0m \u001b[0ma\u001b[0m\u001b[0;34m(\u001b[0m\u001b[0;34m)\u001b[0m\u001b[0;34m\u001b[0m\u001b[0;34m\u001b[0m\u001b[0m\n",
      "\u001b[0;31mValueError\u001b[0m: my exception"
     ]
    }
   ],
   "source": [
    "def a():\n",
    "    return b()\n",
    "\n",
    "def b():\n",
    "    return c()\n",
    "\n",
    "def c():\n",
    "    raise ValueError(\"my exception\")\n",
    "    \n",
    "a()\n",
    "b()\n",
    "c()"
   ]
  },
  {
   "cell_type": "markdown",
   "metadata": {},
   "source": [
    "### ответ к 11:\n",
    "\n",
    "видно, что ошибка возникла при вызове **a** , это связано с тем, что **с** вызывалась как сложная функция из **а**, поэтому вызов прошел путь **а() -> b() -> c()**, а так *Python* - интерпретируемый язык, то консоль выкинула ошибку на **а**, а на следующие вызовые **b** и **c** даже \"не посмотрела\"."
   ]
  }
 ],
 "metadata": {
  "kernelspec": {
   "display_name": "Python 3",
   "language": "python",
   "name": "python3"
  },
  "language_info": {
   "codemirror_mode": {
    "name": "ipython",
    "version": 3
   },
   "file_extension": ".py",
   "mimetype": "text/x-python",
   "name": "python",
   "nbconvert_exporter": "python",
   "pygments_lexer": "ipython3",
   "version": "3.8.3"
  }
 },
 "nbformat": 4,
 "nbformat_minor": 2
}
